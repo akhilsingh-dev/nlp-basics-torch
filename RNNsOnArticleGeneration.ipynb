{
 "cells": [
  {
   "cell_type": "markdown",
   "metadata": {},
   "source": [
    "# Text Generation\n",
    "\n",
    "In this notebook, I will be generating articles out of the given dataset of weight loss articles. This will be done with the help of a character level RNN. A character level RNN treats a word as a sequence of characters. \n",
    "\n",
    "A helpful article to read more about the effectiveness of RNNs:\n",
    "http://karpathy.github.io/2015/05/21/rnn-effectiveness/\n",
    "\n",
    "We start by importing necessary libs and defining directory paths..."
   ]
  },
  {
   "cell_type": "code",
   "execution_count": 1,
   "metadata": {},
   "outputs": [],
   "source": [
    "# For file handling...\n",
    "import os,glob\n",
    "from textwrap import wrap\n",
    "import numpy as np\n",
    "import pandas as pd\n",
    "import matplotlib.pyplot as plt\n",
    "\n",
    "# This creates sequences for us...\n",
    "# Eg : windowed( [0,1,2,3,4,5] , 2) -> ([0,1],[1,2],[2,3],[3,4],[4,5])\n",
    "# It returns a tuple of sequences\n",
    "from boltons.iterutils import windowed\n",
    "import string\n",
    "\n",
    "\n",
    "#For loading data...\n",
    "from torch.utils.data import Dataset,DataLoader\n",
    "from torch.utils.data.dataset import random_split\n",
    "\n",
    "\n",
    "#For creating the model...\n",
    "import torch\n",
    "import torch.nn as nn\n",
    "import torch.nn.functional as F\n",
    "from torch.nn.utils.rnn import pad_packed_sequence, pack_padded_sequence\n",
    "\n",
    "\n",
    "# For training the model...\n",
    "from torch import optim\n",
    "from tqdm import tqdm,tqdm_notebook"
   ]
  },
  {
   "cell_type": "code",
   "execution_count": 2,
   "metadata": {},
   "outputs": [
    {
     "name": "stdout",
     "output_type": "stream",
     "text": [
      "D:\\PROJECTS\\Github\\nlp-basics\\data\n"
     ]
    }
   ],
   "source": [
    "DATA_DIR = os.path.join(os.getcwd(),\"data\")\n",
    "print(DATA_DIR)"
   ]
  },
  {
   "cell_type": "markdown",
   "metadata": {},
   "source": [
    "## Reading the data file\n",
    "\n",
    "The data thats given is in JSON format. JSON or JavaScript Object Notation is a popular way of sharing things across the internet. Any object whose data can be serialized into a dictionary can be stored in a JSON file. This section deals with importing the data in the json file..."
   ]
  },
  {
   "cell_type": "code",
   "execution_count": 3,
   "metadata": {},
   "outputs": [],
   "source": [
    "# Lets define some functions to load an clean the data...\n",
    "\n",
    "alphabets = \"ABCDEFGHIJKLMNOPQRSTUVWXYZabcdefghijklmnopqrstuvwxyz0123456789 ,;!.?\"\n",
    "\n",
    "\n",
    "def loadData(path,SeqLen=125):\n",
    "    \"\"\"\n",
    "        Load data from a JSON file specified by path \"path\"\n",
    "        SeqLen is the sequence length parameter for the RNN.\n",
    "    \"\"\"\n",
    "    \n",
    "    try:\n",
    "        \n",
    "        # Read the file, convert to text, take a sample of 100,\n",
    "        # Convert it to string, make it lowercase and turn it into a list...\n",
    "        \n",
    "        # \"It was a great workout\" --> \"it was a great workout\" --> [i,t, ,w,a,s, ,a,...,t]\n",
    "        texts = pd.read_json(path).text.str.lower().tolist()\n",
    "        \n",
    "        # [i,t, ,w,a,s, ,a,...,t] --> [[i,t],[t, ],[ ,w],...] (here SeqLen = 2)\n",
    "        charsWind = [list(windowed(text,SeqLen)) for text in texts ]\n",
    "        \n",
    "        # a list of all characters...this will build our \"vocabulary\"...\n",
    "        allCharsWind = [sublist for lst in charsWind for sublist in lst]\n",
    "        \n",
    "        # Select the printable characters out of all characters...\n",
    "        goodChars = [seq for seq in tqdm_notebook(allCharsWind) \n",
    "                     if all(char in alphabets for char in seq)]\n",
    "    \n",
    "        return goodChars\n",
    "    \n",
    "    \n",
    "    except OSError:\n",
    "        print(f\"{path} doesn't exist\")\n",
    "    except FileNotFoundError:\n",
    "        print(f\"{path} doesn't specify a JSON file.\")\n"
   ]
  },
  {
   "cell_type": "code",
   "execution_count": 4,
   "metadata": {},
   "outputs": [],
   "source": [
    "def getUniqueChars(seq):\n",
    "    return {char for string in seq for char in string}\n",
    "\n",
    "def createCharMap(seq):\n",
    "    uniqueChars = getUniqueChars(seq)\n",
    "    return {char : idx for idx,char in enumerate(sorted(uniqueChars))}\n",
    "\n",
    "def encodeSeq(seq,charMap):\n",
    "    return [charMap[char] for char in seq]\n",
    "\n",
    "def encodeSequences(sequences,charMap):\n",
    "    return np.array([\n",
    "        encodeSeq(seq,charMap)\n",
    "        for seq in tqdm_notebook(sequences)])"
   ]
  },
  {
   "cell_type": "markdown",
   "metadata": {},
   "source": [
    "## Creating Dataset and Dataloaders\n",
    "\n",
    "With our parsing functions ready, we can build our classes for datasets and loaders..."
   ]
  },
  {
   "cell_type": "code",
   "execution_count": 5,
   "metadata": {},
   "outputs": [],
   "source": [
    "class TxtSequences(Dataset):\n",
    "    \n",
    "    def __init__(self,path,SeqLen):\n",
    "        self.sequences = loadData(path,SeqLen)\n",
    "        self.vocabSize = len(alphabets)\n",
    "    \n",
    "        self.charMap = createCharMap(self.sequences)\n",
    "        self.revMap = {idx:char for char,idx in self.charMap.items()}\n",
    "        self.encoded = encodeSequences(self.sequences,self.charMap)\n",
    "        \n",
    "    def __len__(self):\n",
    "        return len(self.encoded)\n",
    "    \n",
    "    def __getitem__(self,i):\n",
    "        \n",
    "        # Our targets are inside our encoded strings\n",
    "        # In this case, the last n-1 characters are predicted \n",
    "        # on the basis of first n-1 characters... \n",
    "        return self.encoded[i, : -1],self.encoded[i, 1:]"
   ]
  },
  {
   "cell_type": "code",
   "execution_count": 6,
   "metadata": {},
   "outputs": [
    {
     "data": {
      "application/vnd.jupyter.widget-view+json": {
       "model_id": "3f3bf88fabd44dc283431f7dd4522f06",
       "version_major": 2,
       "version_minor": 0
      },
      "text/plain": [
       "HBox(children=(IntProgress(value=0, max=1246263), HTML(value='')))"
      ]
     },
     "metadata": {},
     "output_type": "display_data"
    },
    {
     "name": "stdout",
     "output_type": "stream",
     "text": [
      "\n"
     ]
    },
    {
     "data": {
      "application/vnd.jupyter.widget-view+json": {
       "model_id": "5e67e12a6a2647c9b4a5c9eb6ddafe97",
       "version_major": 2,
       "version_minor": 0
      },
      "text/plain": [
       "HBox(children=(IntProgress(value=0, max=516239), HTML(value='')))"
      ]
     },
     "metadata": {},
     "output_type": "display_data"
    },
    {
     "name": "stdout",
     "output_type": "stream",
     "text": [
      "\n",
      "68\n"
     ]
    }
   ],
   "source": [
    "train_ds = TxtSequences(os.path.join(DATA_DIR,\"articles.jsonl\"),128)\n",
    "print(train_ds.vocabSize)"
   ]
  },
  {
   "cell_type": "code",
   "execution_count": 7,
   "metadata": {},
   "outputs": [],
   "source": [
    "BS = 1024\n",
    "\n",
    "train_dl = DataLoader(train_ds,batch_size=BS)"
   ]
  },
  {
   "cell_type": "markdown",
   "metadata": {},
   "source": [
    "## Model Definition\n",
    "\n",
    "With our dataloaders ready, we will now define an architecture for our model. We will be using RNNs or more specifically, GRU layers. GRU or Gated Recurrent Units solve the vanishing/exploding gradient problem in Vanilla RNNs. They are similar to LSTMs in that aspect although they perform less tensor operations than them and are thus generally preferred."
   ]
  },
  {
   "cell_type": "code",
   "execution_count": 8,
   "metadata": {},
   "outputs": [],
   "source": [
    "class TxtPredictor(nn.Module):\n",
    "    \n",
    "    def __init__(self,vocabSize,embDims,\n",
    "                 hiddenSize,numLayers,device=None):\n",
    "        \n",
    "        super(TxtPredictor,self).__init__()\n",
    "        \n",
    "        \n",
    "        self.numLayers = numLayers\n",
    "        self.hiddenSize = hiddenSize\n",
    "        self.device=device\n",
    "        \n",
    "        self.encoder = nn.Embedding(vocabSize,embDims)\n",
    "        self.rnn1 = nn.GRU(embDims,hiddenSize,num_layers=numLayers,batch_first=True)\n",
    "        self.rnn2 = nn.GRU(hiddenSize,2*hiddenSize,num_layers=numLayers,batch_first=True)\n",
    "        \n",
    "        self.fc1 = nn.Linear(2*hiddenSize,hiddenSize)\n",
    "        self.decoder = nn.Linear(hiddenSize,vocabSize)\n",
    "    \n",
    "    def initWghts(self,batchSize,m):\n",
    "        wghts = torch.empty(self.numLayers,batchSize,self.hiddenSize*m)\n",
    "        nn.init.kaiming_normal_(wghts,mode='fan_out')\n",
    "        return wghts.to(self.device)\n",
    "    \n",
    "    def forward(self,inputs,hidden1,hidden2):\n",
    "        encoded = self.encoder(inputs)\n",
    "        output,hidden = self.rnn1(encoded.unsqueeze(1),hidden1)\n",
    "        output,hidden = self.rnn2(output,hidden2)\n",
    "        output = self.fc1(output.squeeze(1))\n",
    "        output = self.decoder(output)\n",
    "        return output,hidden\n",
    "    \n",
    "    def trainModel(self,epochs,train_dl,criterion,optimizer,plotLoss=True):\n",
    "        self.train()\n",
    "        trainLosses=[]\n",
    "        \n",
    "        for epoch in range(epochs):\n",
    "            progressBar = tqdm_notebook(train_dl)\n",
    "            losses = []\n",
    "            total = 0\n",
    "            \n",
    "            for inputs,actual in progressBar:\n",
    "                self.zero_grad()\n",
    "                loss = 0\n",
    "                \n",
    "                inputs = inputs.long().to(device)\n",
    "                actual = actual.long().to(device)\n",
    "                \n",
    "                batchSize = inputs.size()[0]\n",
    "                hidden1 = self.initWghts(batchSize,1)\n",
    "                hidden2 = self.initWghts(batchSize,2)\n",
    "                \n",
    "                for idx in range(inputs.size()[1]):\n",
    "                    output,hidden = self(inputs[:,idx],hidden1,hidden2)\n",
    "                    loss += criterion(output,actual[:,idx])\n",
    "                    \n",
    "                loss.backward()\n",
    "                optimizer.step()\n",
    "                avgLoss = loss.item()/inputs.size()[1]\n",
    "                progressBar.set_description(f'Loss: {avgLoss:.3f}')\n",
    "                losses.append(avgLoss)\n",
    "                total += 1\n",
    "                \n",
    "            epochLoss = sum(losses)/total\n",
    "            trainLosses.append(epochLoss)\n",
    "            tqdm.write(f\"Epoch : {epoch+1}\\tLoss : {epochLoss:.3f}\")\n",
    "        \n",
    "        \n",
    "        if plotLoss:\n",
    "            plt.plot(trainLosses)"
   ]
  },
  {
   "cell_type": "code",
   "execution_count": 9,
   "metadata": {},
   "outputs": [
    {
     "name": "stdout",
     "output_type": "stream",
     "text": [
      "TxtPredictor(\n",
      "  (encoder): Embedding(68, 100)\n",
      "  (rnn1): GRU(100, 64, batch_first=True)\n",
      "  (rnn2): GRU(64, 128, batch_first=True)\n",
      "  (fc1): Linear(in_features=128, out_features=64, bias=True)\n",
      "  (decoder): Linear(in_features=64, out_features=68, bias=True)\n",
      ")\n"
     ]
    }
   ],
   "source": [
    "device = 'cuda'\n",
    "myModel = TxtPredictor(train_ds.vocabSize,100,128,1,device).to(device)\n",
    "criterion = nn.CrossEntropyLoss()\n",
    "\n",
    "print(myModel)"
   ]
  },
  {
   "cell_type": "code",
   "execution_count": 22,
   "metadata": {},
   "outputs": [
    {
     "data": {
      "application/vnd.jupyter.widget-view+json": {
       "model_id": "40c2a3e45e8e40439dd241ea779f7413",
       "version_major": 2,
       "version_minor": 0
      },
      "text/plain": [
       "HBox(children=(IntProgress(value=0, max=505), HTML(value='')))"
      ]
     },
     "metadata": {},
     "output_type": "display_data"
    },
    {
     "name": "stdout",
     "output_type": "stream",
     "text": [
      "Epoch : 1\tLoss : 2.518\n"
     ]
    },
    {
     "data": {
      "application/vnd.jupyter.widget-view+json": {
       "model_id": "15b016a6903840ac843359e9a87b72e8",
       "version_major": 2,
       "version_minor": 0
      },
      "text/plain": [
       "HBox(children=(IntProgress(value=0, max=505), HTML(value='')))"
      ]
     },
     "metadata": {},
     "output_type": "display_data"
    },
    {
     "name": "stdout",
     "output_type": "stream",
     "text": [
      "Epoch : 2\tLoss : 2.515\n"
     ]
    },
    {
     "data": {
      "application/vnd.jupyter.widget-view+json": {
       "model_id": "cbff917962de41fab8c638e2accf70ca",
       "version_major": 2,
       "version_minor": 0
      },
      "text/plain": [
       "HBox(children=(IntProgress(value=0, max=505), HTML(value='')))"
      ]
     },
     "metadata": {},
     "output_type": "display_data"
    },
    {
     "name": "stdout",
     "output_type": "stream",
     "text": [
      "Epoch : 3\tLoss : 2.513\n"
     ]
    },
    {
     "data": {
      "application/vnd.jupyter.widget-view+json": {
       "model_id": "d6b25b1231694cdbaf6782ba470fcddc",
       "version_major": 2,
       "version_minor": 0
      },
      "text/plain": [
       "HBox(children=(IntProgress(value=0, max=505), HTML(value='')))"
      ]
     },
     "metadata": {},
     "output_type": "display_data"
    },
    {
     "name": "stdout",
     "output_type": "stream",
     "text": [
      "Epoch : 4\tLoss : 2.515\n"
     ]
    },
    {
     "data": {
      "application/vnd.jupyter.widget-view+json": {
       "model_id": "6413ee3a856d42ab905cdb6e00293a76",
       "version_major": 2,
       "version_minor": 0
      },
      "text/plain": [
       "HBox(children=(IntProgress(value=0, max=505), HTML(value='')))"
      ]
     },
     "metadata": {},
     "output_type": "display_data"
    },
    {
     "name": "stdout",
     "output_type": "stream",
     "text": [
      "Epoch : 5\tLoss : 2.531\n"
     ]
    },
    {
     "data": {
      "image/png": "[encoded data removed]",
      "text/plain": [
       "<Figure size 432x288 with 1 Axes>"
      ]
     },
     "metadata": {
      "needs_background": "light"
     },
     "output_type": "display_data"
    }
   ],
   "source": [
    "optimizer = optim.Adam(\n",
    "    filter(lambda p: p.requires_grad, myModel.parameters()),\n",
    "    lr=9e-2,)\n",
    "myModel.trainModel(5,train_dl,criterion,optimizer)"
   ]
  },
  {
   "cell_type": "code",
   "execution_count": 23,
   "metadata": {},
   "outputs": [],
   "source": [
    "def pretty_print(text):\n",
    "    \"\"\"Wrap text for nice printing.\"\"\"\n",
    "    to_print = ''\n",
    "    for paragraph in text.split('\\n'):\n",
    "        to_print += '\\n'.join(wrap(paragraph))\n",
    "        to_print += '\\n'\n",
    "    print(to_print)\n",
    "\n",
    "\n",
    "temperature = 1.0"
   ]
  },
  {
   "cell_type": "code",
   "execution_count": 24,
   "metadata": {},
   "outputs": [
    {
     "name": "stdout",
     "output_type": "stream",
     "text": [
      "rbsrtnyl llnrtnnycnnncbonrtlcno rnltnnllktonpnnnlbntnmnvlcldnnsnvtnt\n",
      "yi btlnlbtlldsdrcnsb.rnnll\n",
      "nlfbcncgnllrrtrnncllvblutnnandcpnsmrnrscltlmtdpnr llsintssrsnnnnts\n",
      "cdpnl btllmtsynrrnnnspncbnlnln n tttlnrclsnbsb\n",
      "nnrnlrnrnlnnnnnsgrntlltlrrplrnnnt nsstrnc lnnylknlltnrccrnnnpscrcnltnl\n",
      "lrtngdllstrlsmrcnninsnttnoensnntntlvsbnnrsbnnstlnlnlmnnmtgltlllnanvbln\n",
      "irbtnfslnrtnnnnrlmsrndnnrtnndll tnnrnfnlnrlctn lnrcnrtlnff\n",
      "ccnrsasldmttnnymtllclcrnnpnlllrrnblcnp nnrdn nvote l wscnnlnnlnn\n",
      "ntkrngnnntltslesrcsc irdlnnmelllnnlnn nbklrpnylensdnsy t slnltldn.pas\n",
      "nsnryrnrrvnnnbltrbt cncncnncmtbmtyn rllnplscnvtlsnbntnotoprrttrnbrrtnn\n",
      "ntisbbyltnllnnntnrsstnrtnsrnnrbnncpllirtrcyyntrtcrn\n",
      "bnbntntlrvnnnrnndnsttnc lsnnuclnlecvlnnlftndlerlnnn\n",
      "lstntfnrnnlgnsncnlltrlsmplkn lclprklctlmdlr mttnncsslninrnrsswsllb\n",
      "tnonmdnttl yslssfmntnepssnltlsflnsy  nbnydnldnrsnprosrlctllnnn\n",
      "grllntrmnmsgmnrnrnt wltlerbsrnltssmvltrl tndll rnlnnltcncrnnvtslr\n",
      "rlntrlorlmsntl snyknrntbdttnncsnt nrrydb\n",
      "rrnlyclcnnttnrcdnnlsllnyccnllststnrbntnnrntny\n",
      "\n"
     ]
    }
   ],
   "source": [
    "myModel.eval()\n",
    "\n",
    "seed = 'a'\n",
    "text = ''\n",
    "\n",
    "with torch.no_grad():\n",
    "    batchSize = 1\n",
    "    hidden1 = myModel.initWghts(batchSize,1)\n",
    "    hidden2 = myModel.initWghts(batchSize,2)\n",
    "    lastChar = train_ds.charMap[seed]\n",
    "    for _ in range(1000):\n",
    "        output, hidden = myModel(torch.LongTensor([lastChar]).to(device), hidden1,hidden2)\n",
    "        \n",
    "        distribution = output.squeeze().div(temperature).exp()\n",
    "        guess = torch.multinomial(distribution, 1).item()\n",
    "        \n",
    "        last_char = guess\n",
    "        text += train_ds.revMap[guess]\n",
    "        \n",
    "\n",
    "pretty_print(text)"
   ]
  },
  {
   "cell_type": "code",
   "execution_count": null,
   "metadata": {},
   "outputs": [],
   "source": []
  }
 ],
 "metadata": {
  "kernelspec": {
   "display_name": "Python [conda env:fastai] *",
   "language": "python",
   "name": "conda-env-fastai-py"
  },
  "language_info": {
   "codemirror_mode": {
    "name": "ipython",
    "version": 3
   },
   "file_extension": ".py",
   "mimetype": "text/x-python",
   "name": "python",
   "nbconvert_exporter": "python",
   "pygments_lexer": "ipython3",
   "version": "3.7.3"
  }
 },
 "nbformat": 4,
 "nbformat_minor": 2
}
