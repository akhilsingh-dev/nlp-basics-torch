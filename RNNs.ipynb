{
 "cells": [
  {
   "cell_type": "markdown",
   "metadata": {},
   "source": [
    "# Recurrent Neural Networks\n",
    "\n",
    "We now look at a new architecture to build our models. Previous models such as the CNN or Fully connected layers did not take into account a \"sequence\" or list of ordered inputs. In applications like NLP, the input (a sentence or a list of words) almost always has a sequential importance. This is why we need a way to incorporate that sequence while training our models.\n",
    "\n",
    "This is done with the help of RNNs or Recurrent Neural Networks. A vanilla RNN would take the previous hidden state, pass it along with the input to the next hidden state. It should be noted that our inputs are no longer single data rows but a sequence of datarows all bunched together and passed together. There are 3 most common type of RNNs:\n",
    "1. Vanilla RNNs (for lack of better wording)\n",
    "2. LSTMs (RNNs with better long term memory)\n",
    "3. GRUs (Similar functioning to LSTM but lesser operations per cell)\n",
    "\n",
    "Vanilla RNNs are bad at learning long sequences. This is because of the \"vanishing gradient problem\". The longer the sequence, the more the effect and worse the effect on the lower layers. This is overcome by Long Short Term Memory (LSTM) cells which use gates and cell states to forget/update and output new states and outputs.Gated Recurrent Units (GRUs) are similar to LSTMs but they use lesser gates thus being quicker than LSTMs. \n",
    "\n",
    "In this notebook, i will be training a GRU on the IMDB reviews dataset and compare it to the fully connected model built in previous notebook."
   ]
  },
  {
   "cell_type": "code",
   "execution_count": 1,
   "metadata": {},
   "outputs": [],
   "source": [
    "import numpy as np\n",
    "import pandas as pd\n",
    "import os\n",
    "\n",
    "\n",
    "from sklearn.feature_extraction.text import CountVectorizer\n",
    "from torch.utils.data import DataLoader, Dataset\n",
    "from pymagnitude import Magnitude\n",
    "\n",
    "import torch\n",
    "import torch.nn as nn\n",
    "import torch.nn.functional as F\n",
    "from torch.nn.utils.rnn import pack_padded_sequence, pad_packed_sequence\n",
    "\n",
    "\n",
    "import matplotlib.pyplot as plt\n",
    "from tqdm import tqdm, tqdm_notebook"
   ]
  },
  {
   "cell_type": "code",
   "execution_count": 2,
   "metadata": {},
   "outputs": [
    {
     "name": "stdout",
     "output_type": "stream",
     "text": [
      "D:\\PROJECTS\\Github\\nlp-basics cuda\n"
     ]
    }
   ],
   "source": [
    "ROOT_DIR = os.getcwd()\n",
    "DATA_DIR = os.path.join(ROOT_DIR,\"data\")\n",
    "\n",
    "device = torch.device('cuda' if torch.cuda.is_available() else 'cpu')\n",
    "\n",
    "print(ROOT_DIR,device)\n",
    "\n",
    "%matplotlib inline"
   ]
  },
  {
   "cell_type": "code",
   "execution_count": 3,
   "metadata": {},
   "outputs": [
    {
     "data": {
      "text/html": [
       "<div>\n",
       "<style scoped>\n",
       "    .dataframe tbody tr th:only-of-type {\n",
       "        vertical-align: middle;\n",
       "    }\n",
       "\n",
       "    .dataframe tbody tr th {\n",
       "        vertical-align: top;\n",
       "    }\n",
       "\n",
       "    .dataframe thead th {\n",
       "        text-align: right;\n",
       "    }\n",
       "</style>\n",
       "<table border=\"1\" class=\"dataframe\">\n",
       "  <thead>\n",
       "    <tr style=\"text-align: right;\">\n",
       "      <th></th>\n",
       "      <th>review</th>\n",
       "      <th>label</th>\n",
       "    </tr>\n",
       "  </thead>\n",
       "  <tbody>\n",
       "    <tr>\n",
       "      <th>0</th>\n",
       "      <td>Once again Mr. Costner has dragged out a movie...</td>\n",
       "      <td>0</td>\n",
       "    </tr>\n",
       "    <tr>\n",
       "      <th>1</th>\n",
       "      <td>This is an example of why the majority of acti...</td>\n",
       "      <td>0</td>\n",
       "    </tr>\n",
       "    <tr>\n",
       "      <th>2</th>\n",
       "      <td>First of all I hate those moronic rappers, who...</td>\n",
       "      <td>0</td>\n",
       "    </tr>\n",
       "    <tr>\n",
       "      <th>3</th>\n",
       "      <td>Not even the Beatles could write songs everyon...</td>\n",
       "      <td>0</td>\n",
       "    </tr>\n",
       "    <tr>\n",
       "      <th>4</th>\n",
       "      <td>Brass pictures (movies is not a fitting word f...</td>\n",
       "      <td>0</td>\n",
       "    </tr>\n",
       "  </tbody>\n",
       "</table>\n",
       "</div>"
      ],
      "text/plain": [
       "                                              review  label\n",
       "0  Once again Mr. Costner has dragged out a movie...      0\n",
       "1  This is an example of why the majority of acti...      0\n",
       "2  First of all I hate those moronic rappers, who...      0\n",
       "3  Not even the Beatles could write songs everyon...      0\n",
       "4  Brass pictures (movies is not a fitting word f...      0"
      ]
     },
     "execution_count": 3,
     "metadata": {},
     "output_type": "execute_result"
    }
   ],
   "source": [
    "df = pd.read_csv(os.path.join(DATA_DIR,\"imdb_reviews.csv\"))\n",
    "df.head()"
   ]
  },
  {
   "cell_type": "code",
   "execution_count": 4,
   "metadata": {},
   "outputs": [
    {
     "data": {
      "text/plain": [
       "168"
      ]
     },
     "execution_count": 4,
     "metadata": {},
     "output_type": "execute_result"
    }
   ],
   "source": [
    "words = df.review[0].split()\n",
    "len(words)"
   ]
  },
  {
   "cell_type": "code",
   "execution_count": 5,
   "metadata": {},
   "outputs": [],
   "source": [
    "class Sequences(Dataset):\n",
    "    def __init__(self,path,seqLen):\n",
    "        \n",
    "        self.seqLen = seqLen\n",
    "        df = pd.read_csv(path)\n",
    "        \n",
    "        vectorizer = CountVectorizer(stop_words='english', min_df=0.015)\n",
    "        vectorizer.fit(df.review.tolist())\n",
    "        \n",
    "        # All words in our vocab and their indices...\n",
    "        self.token2idx = vectorizer.vocabulary_\n",
    "        self.token2idx['<PAD>'] = max(self.token2idx.values()) + 1\n",
    "        \n",
    "        \n",
    "        tokenizer = vectorizer.build_analyzer()\n",
    "        \n",
    "        \n",
    "        #find the index corresponding to all words in a sentence...\n",
    "        self.encode = lambda sent: [self.token2idx[token] for token in tokenizer(sent) if token in self.token2idx]\n",
    "        \n",
    "        \n",
    "        # Pad the list of words with our \"<PAD>\" variable...\n",
    "        self.pad = lambda x: x + (seqLen - len(x)) * [self.token2idx['<PAD>']]\n",
    "        \n",
    "        \n",
    "        # Encode all reviews in the df...\n",
    "        sequences = [self.encode(sent)[:seqLen] for sent in df.review.tolist()]\n",
    "        \n",
    "        #zip input and label lists together and unpack them...\n",
    "        sequences, self.labels = zip(*[(sequence, label) for sequence, label \n",
    "                                       in zip(sequences, df.label.tolist()) if sequence])\n",
    "        \n",
    "        \n",
    "        #pad the sequences...\n",
    "        self.sequences = [self.pad(sequence) for sequence in sequences]\n",
    "\n",
    "\n",
    "        \n",
    "    def __getitem__(self,i):\n",
    "        assert len(self.sequences) == len(self.labels)\n",
    "        return self.sequences[i],self.labels[i]\n",
    "        \n",
    "    def __len__(self):\n",
    "        return len(self.sequences)        "
   ]
  },
  {
   "cell_type": "code",
   "execution_count": 6,
   "metadata": {},
   "outputs": [],
   "source": [
    "dataset = Sequences(os.path.join(DATA_DIR,\"imdb_reviews.csv\"), seqLen = 128)"
   ]
  },
  {
   "cell_type": "code",
   "execution_count": 7,
   "metadata": {},
   "outputs": [
    {
     "name": "stdout",
     "output_type": "stream",
     "text": [
      "62155\n"
     ]
    }
   ],
   "source": [
    "# Each review has some arbitrary number of words and 50 output dimensions and there are ~62k such reviews...\n",
    "print(len(dataset.sequences))\n",
    "gloveEmb = Magnitude(os.path.join(ROOT_DIR,\"embeddings\",\"glove-lemmatized.6B.50d.magnitude\"))\n",
    "\n",
    "def collate(batch):\n",
    "    inputs=[]\n",
    "    target=[]\n",
    "    for item in batch:\n",
    "        tmp = gloveEmb.query(item[0])\n",
    "        inputs.append(tmp)\n",
    "        target.append(item[1])\n",
    "    \n",
    "    inputs = torch.FloatTensor(inputs).cuda()\n",
    "    target = torch.FloatTensor(target).cuda()\n",
    "\n",
    "    return inputs, target\n",
    "\n",
    "batch_size = 1024\n",
    "train_loader = DataLoader(dataset, batch_size=batch_size, collate_fn=collate)"
   ]
  },
  {
   "cell_type": "code",
   "execution_count": 8,
   "metadata": {},
   "outputs": [],
   "source": [
    "class RecModel(nn.Module):\n",
    "    \n",
    "    def __init__(self, batchSize, vocabSize, embDims,\n",
    "                 hiddenSize=128, nLayers=1, device='cuda'):\n",
    "        \n",
    "        \n",
    "        super(RecModel,self).__init__()\n",
    "        \n",
    "        self.nLayers = nLayers\n",
    "        self.hiddenSize = hiddenSize\n",
    "        self.device = device\n",
    "        self.batchSize = batchSize\n",
    "        \n",
    "#                       \n",
    "        #self.encoder = nn.Embedding(vocabSize, embDims)\n",
    "#                           \n",
    "        self.rnn = nn.GRU(embDims, hiddenSize,\n",
    "            num_layers=nLayers, batch_first=True,)\n",
    "#                               \n",
    "        self.decoder = nn.Linear(hiddenSize, 1)\n",
    "        \n",
    "    \n",
    "    def init_hidden(self):\n",
    "        A=torch.empty(self.nLayers, self.batchSize, self.hiddenSize).to(self.device)\n",
    "        torch.nn.init.kaiming_normal_(A, a=0, mode='fan_in', nonlinearity='relu')\n",
    "        return A\n",
    "        \n",
    "    \n",
    "    def forward(self,inputs):\n",
    "        \n",
    "        batchSize = inputs.size(0)\n",
    "        \n",
    "        if batchSize != self.batchSize:\n",
    "            self.batchSize = batchSize\n",
    "            \n",
    "        #encoded = self.encoder(inputs)\n",
    "        \n",
    "        output, hidden = self.rnn(inputs, self.init_hidden())\n",
    "        output = self.decoder(output[:, :, -1]).squeeze()\n",
    "        \n",
    "        return output"
   ]
  },
  {
   "cell_type": "code",
   "execution_count": 9,
   "metadata": {},
   "outputs": [
    {
     "data": {
      "text/plain": [
       "RecModel(\n",
       "  (rnn): GRU(50, 128, num_layers=2, batch_first=True)\n",
       "  (decoder): Linear(in_features=128, out_features=1, bias=True)\n",
       ")"
      ]
     },
     "execution_count": 9,
     "metadata": {},
     "output_type": "execute_result"
    }
   ],
   "source": [
    "device='cuda'\n",
    "model = RecModel(batchSize=1024,vocabSize=1104,embDims=50,hiddenSize=128,nLayers=2)\n",
    "model = model.to(device)\n",
    "model"
   ]
  },
  {
   "cell_type": "code",
   "execution_count": 10,
   "metadata": {},
   "outputs": [],
   "source": [
    "import torch.optim as optim\n",
    "\n",
    "criterion = nn.BCEWithLogitsLoss()\n",
    "optimizer = optim.Adam([p for p in model.parameters() if p.requires_grad], lr=0.003)"
   ]
  },
  {
   "cell_type": "code",
   "execution_count": 11,
   "metadata": {
    "scrolled": false
   },
   "outputs": [
    {
     "data": {
      "application/vnd.jupyter.widget-view+json": {
       "model_id": "",
       "version_major": 2,
       "version_minor": 0
      },
      "text/plain": [
       "HBox(children=(IntProgress(value=0, max=61), HTML(value='')))"
      ]
     },
     "metadata": {},
     "output_type": "display_data"
    },
    {
     "name": "stdout",
     "output_type": "stream",
     "text": [
      "Epoch #1    Train Loss: 1.098\n"
     ]
    },
    {
     "data": {
      "application/vnd.jupyter.widget-view+json": {
       "model_id": "",
       "version_major": 2,
       "version_minor": 0
      },
      "text/plain": [
       "HBox(children=(IntProgress(value=0, max=61), HTML(value='')))"
      ]
     },
     "metadata": {},
     "output_type": "display_data"
    },
    {
     "name": "stdout",
     "output_type": "stream",
     "text": [
      "Epoch #2    Train Loss: 0.704\n"
     ]
    },
    {
     "data": {
      "application/vnd.jupyter.widget-view+json": {
       "model_id": "",
       "version_major": 2,
       "version_minor": 0
      },
      "text/plain": [
       "HBox(children=(IntProgress(value=0, max=61), HTML(value='')))"
      ]
     },
     "metadata": {},
     "output_type": "display_data"
    },
    {
     "name": "stdout",
     "output_type": "stream",
     "text": [
      "Epoch #3    Train Loss: 0.696\n"
     ]
    }
   ],
   "source": [
    "model.train()\n",
    "train_losses = []\n",
    "\n",
    "for epoch in range(3):\n",
    "\n",
    "    progress_bar = tqdm_notebook(train_loader, leave=False)\n",
    "    losses = []\n",
    "    total = 0\n",
    "    \n",
    "    for inputs, target in progress_bar:\n",
    "        model.zero_grad()\n",
    "        \n",
    "        output = model(inputs)\n",
    "    \n",
    "        loss = criterion(output, target)\n",
    "        \n",
    "        loss.backward()\n",
    "              \n",
    "        nn.utils.clip_grad_norm_(model.parameters(), 3)\n",
    "\n",
    "        optimizer.step()\n",
    "        \n",
    "        progress_bar.set_description(f'Loss: {loss.item():.3f}')\n",
    "        \n",
    "        losses.append(loss.item())\n",
    "        total += 1\n",
    "    \n",
    "    epoch_loss = sum(losses) / total\n",
    "    train_losses.append(epoch_loss)\n",
    "\n",
    "    tqdm.write(f'Epoch #{epoch + 1}    Train Loss: {epoch_loss:.3f}')"
   ]
  },
  {
   "cell_type": "code",
   "execution_count": 17,
   "metadata": {},
   "outputs": [
    {
     "name": "stdout",
     "output_type": "stream",
     "text": [
      "[1.0975606264088487, 0.7044911521380065, 0.6955554543948564]\n"
     ]
    },
    {
     "data": {
      "text/plain": [
       "[<matplotlib.lines.Line2D at 0x22e0ec6b6a0>]"
      ]
     },
     "execution_count": 17,
     "metadata": {},
     "output_type": "execute_result"
    },
    {
     "data": {
      "image/png": "[encoded data removed]",
      "text/plain": [
       "<Figure size 432x288 with 1 Axes>"
      ]
     },
     "metadata": {
      "needs_background": "light"
     },
     "output_type": "display_data"
    }
   ],
   "source": [
    "print(train_losses)\n",
    "plt.plot(train_losses)"
   ]
  },
  {
   "cell_type": "code",
   "execution_count": 15,
   "metadata": {},
   "outputs": [],
   "source": [
    "def predict_sentiment(text):\n",
    "    model.eval()\n",
    "    with torch.no_grad():\n",
    "        \n",
    "        words = \n",
    "        tmp = gloveEmb.query(words)\n",
    "        test_vector = torch.LongTensor([dataset.pad(dataset.encode(text))]).to(device)\n",
    "        \n",
    "        output = model(test_vector)\n",
    "        prediction = torch.sigmoid(output).item()\n",
    "\n",
    "        if prediction > 0.5:\n",
    "            print(f'{prediction:0.3}: Positive sentiment')\n",
    "        else:\n",
    "            print(f'{prediction:0.3}: Negative sentiment')"
   ]
  },
  {
   "cell_type": "code",
   "execution_count": 16,
   "metadata": {},
   "outputs": [
    {
     "ename": "NameError",
     "evalue": "name 'item' is not defined",
     "output_type": "error",
     "traceback": [
      "\u001b[1;31m---------------------------------------------------------------------------\u001b[0m",
      "\u001b[1;31mNameError\u001b[0m                                 Traceback (most recent call last)",
      "\u001b[1;32m<ipython-input-16-f9387716f20b>\u001b[0m in \u001b[0;36m<module>\u001b[1;34m\u001b[0m\n\u001b[0;32m     28\u001b[0m \u001b[0mattitudes\u001b[0m \u001b[0mtowards\u001b[0m \u001b[0mlife\u001b[0m\u001b[1;33m.\u001b[0m\u001b[1;33m\u001b[0m\u001b[1;33m\u001b[0m\u001b[0m\n\u001b[0;32m     29\u001b[0m \"\"\"\n\u001b[1;32m---> 30\u001b[1;33m \u001b[0mpredict_sentiment\u001b[0m\u001b[1;33m(\u001b[0m\u001b[0mtest_text\u001b[0m\u001b[1;33m)\u001b[0m\u001b[1;33m\u001b[0m\u001b[1;33m\u001b[0m\u001b[0m\n\u001b[0m",
      "\u001b[1;32m<ipython-input-15-72f91c14f0c7>\u001b[0m in \u001b[0;36mpredict_sentiment\u001b[1;34m(text)\u001b[0m\n\u001b[0;32m      4\u001b[0m \u001b[1;33m\u001b[0m\u001b[0m\n\u001b[0;32m      5\u001b[0m \u001b[1;33m\u001b[0m\u001b[0m\n\u001b[1;32m----> 6\u001b[1;33m         \u001b[0mtmp\u001b[0m \u001b[1;33m=\u001b[0m \u001b[0mgloveEmb\u001b[0m\u001b[1;33m.\u001b[0m\u001b[0mquery\u001b[0m\u001b[1;33m(\u001b[0m\u001b[0mitem\u001b[0m\u001b[1;33m[\u001b[0m\u001b[1;36m0\u001b[0m\u001b[1;33m]\u001b[0m\u001b[1;33m)\u001b[0m\u001b[1;33m\u001b[0m\u001b[1;33m\u001b[0m\u001b[0m\n\u001b[0m\u001b[0;32m      7\u001b[0m         \u001b[0mtest_vector\u001b[0m \u001b[1;33m=\u001b[0m \u001b[0mtorch\u001b[0m\u001b[1;33m.\u001b[0m\u001b[0mLongTensor\u001b[0m\u001b[1;33m(\u001b[0m\u001b[1;33m[\u001b[0m\u001b[0mdataset\u001b[0m\u001b[1;33m.\u001b[0m\u001b[0mpad\u001b[0m\u001b[1;33m(\u001b[0m\u001b[0mdataset\u001b[0m\u001b[1;33m.\u001b[0m\u001b[0mencode\u001b[0m\u001b[1;33m(\u001b[0m\u001b[0mtext\u001b[0m\u001b[1;33m)\u001b[0m\u001b[1;33m)\u001b[0m\u001b[1;33m]\u001b[0m\u001b[1;33m)\u001b[0m\u001b[1;33m.\u001b[0m\u001b[0mto\u001b[0m\u001b[1;33m(\u001b[0m\u001b[0mdevice\u001b[0m\u001b[1;33m)\u001b[0m\u001b[1;33m\u001b[0m\u001b[1;33m\u001b[0m\u001b[0m\n\u001b[0;32m      8\u001b[0m \u001b[1;33m\u001b[0m\u001b[0m\n",
      "\u001b[1;31mNameError\u001b[0m: name 'item' is not defined"
     ]
    }
   ],
   "source": [
    "test_text = \"\"\"\n",
    "Don't let any bullies out there try and shape your judgment on this gem of a\n",
    "title.\n",
    "\n",
    "Some people really don't have anything better to do, except trash a great movie\n",
    "with annoying 1-star votes and spread lies on the Internet about how \"dumb\"\n",
    "Cool Cat is.\n",
    "\n",
    "I wouldn't be surprised to learn if much of the unwarranted negativity hurled\n",
    "at this movie is coming from people who haven't even watched this movie for\n",
    "themselves in the first place. Those people are no worse than the Butch the\n",
    "Bully, the film's repulsive antagonist.\n",
    "\n",
    "As it just so happens, one of the main points of \"Cool Cat Saves the Kids\" is\n",
    "in addressing the attitudes of mean naysayers who try to demean others who\n",
    "strive to bring good attitudes and fun vibes into people's lives. The message\n",
    "to be learned here is that if one is friendly and good to others, the world is\n",
    "friendly and good to one in return, and that is cool. Conversely, if one is\n",
    "miserable and leaving 1-star votes on IMDb, one is alone and doesn't have any\n",
    "friends at all. Ain't that the truth?\n",
    "\n",
    "The world has uncovered a great, new, young filmmaking talent in \"Cool Cat\"\n",
    "creator Derek Savage, and I sure hope that this is only the first of many\n",
    "amazing films and stories that the world has yet to appreciate.\n",
    "\n",
    "If you are a cool person who likes to have lots of fun, I guarantee that this\n",
    "is a movie with charm that will uplift your spirits and reaffirm your positive\n",
    "attitudes towards life.\n",
    "\"\"\"\n",
    "predict_sentiment(test_text)"
   ]
  },
  {
   "cell_type": "code",
   "execution_count": null,
   "metadata": {},
   "outputs": [],
   "source": [
    "got = \"\"\"They stole Jon Snow's destiny in this episode. \n",
    "Jon was always written to fight against the white walkers. \n",
    "To have someone else steal the kill shot from him, just to fit in with 2019 political agenda is disgusting. \n",
    "I've been waiting for this for over 20 years. \n",
    "This is not what was promised. \n",
    "The battle scene was completely stupid as well. \n",
    "Walls are meant to be hidden behind or mounted upon. \n",
    "Hopefully they haven't neutered GRRM as they did D&D. \n",
    "Ever since the show runners took over the story this show has been total crap.\"\"\"\n",
    "\n",
    "predict_sentiment(got)"
   ]
  },
  {
   "cell_type": "code",
   "execution_count": null,
   "metadata": {},
   "outputs": [],
   "source": []
  }
 ],
 "metadata": {
  "kernelspec": {
   "display_name": "Python [conda env:fastai] *",
   "language": "python",
   "name": "conda-env-fastai-py"
  },
  "language_info": {
   "codemirror_mode": {
    "name": "ipython",
    "version": 3
   },
   "file_extension": ".py",
   "mimetype": "text/x-python",
   "name": "python",
   "nbconvert_exporter": "python",
   "pygments_lexer": "ipython3",
   "version": "3.7.3"
  }
 },
 "nbformat": 4,
 "nbformat_minor": 2
}
